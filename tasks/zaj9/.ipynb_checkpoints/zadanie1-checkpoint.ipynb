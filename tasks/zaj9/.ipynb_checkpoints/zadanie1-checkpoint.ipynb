{
 "metadata": {
  "name": "",
  "signature": "sha256:7eb7a8b7bf0d9dd9130f5b6f3d5f87fd8568514f47478c9655560eb58c0063fa"
 },
 "nbformat": 3,
 "nbformat_minor": 0,
 "worksheets": [
  {
   "cells": [
    {
     "cell_type": "code",
     "collapsed": false,
     "input": [
      "import numpy as np"
     ],
     "language": "python",
     "metadata": {},
     "outputs": [],
     "prompt_number": 1
    },
    {
     "cell_type": "code",
     "collapsed": false,
     "input": [
      "m2 = np.memmap(\"data.bin\", dtype=\"float\", shape=(1000, 10000))"
     ],
     "language": "python",
     "metadata": {},
     "outputs": [],
     "prompt_number": 2
    },
    {
     "cell_type": "code",
     "collapsed": false,
     "input": [
      "x = np.linspace(-40, 40, 10000)\n",
      "y = m2[103]"
     ],
     "language": "python",
     "metadata": {},
     "outputs": [],
     "prompt_number": 45
    },
    {
     "cell_type": "code",
     "collapsed": false,
     "input": [
      "%matplotlib inline\n",
      "import pylab\n"
     ],
     "language": "python",
     "metadata": {},
     "outputs": [],
     "prompt_number": 8
    },
    {
     "cell_type": "code",
     "collapsed": false,
     "input": [
      "pylab.plot(x, y)\n",
      "#print(y[0], y[1])\n",
      "z = y[1:]-y[:-1]\n",
      "print(x[np.floor((np.argmin(z)-np.argmax(z))/2)+np.argmax(z)])\n",
      "#pylab.plot(x[:-1],z)"
     ],
     "language": "python",
     "metadata": {},
     "outputs": [
      {
       "output_type": "stream",
       "stream": "stdout",
       "text": [
        "0.3400340034\n"
       ]
      },
      {
       "metadata": {},
       "output_type": "display_data",
       "png": "[encoded data removed]",
       "text": [
        "<matplotlib.figure.Figure at 0x7fb5923b3470>"
       ]
      }
     ],
     "prompt_number": 46
    },
    {
     "cell_type": "code",
     "collapsed": false,
     "input": [],
     "language": "python",
     "metadata": {},
     "outputs": [],
     "prompt_number": 24
    },
    {
     "cell_type": "code",
     "collapsed": false,
     "input": [
      "d=0\n",
      "e=0\n",
      "a=max(y)\n",
      "b = np.average(x*y)\n",
      "c = np.sqrt(sum((y-b)**2)/len(x))"
     ],
     "language": "python",
     "metadata": {},
     "outputs": [
      {
       "metadata": {},
       "output_type": "pyout",
       "prompt_number": 14,
       "text": [
        "(10.431919892007341, 9.0871541668794062)"
       ]
      }
     ],
     "prompt_number": 14
    },
    {
     "cell_type": "code",
     "collapsed": false,
     "input": [
      "import scipy.optimize as o\n",
      "\n",
      "from IPython.parallel import Client\n",
      "rc = Client(profile='default')\n",
      "dview = rc.direct_view()\n",
      "\n",
      "dview.scatter('Y', m2) # Przesy\u0142am dane do silnik\u00f3w\n",
      "dview.push({\"X\": x})"
     ],
     "language": "python",
     "metadata": {},
     "outputs": [
      {
       "metadata": {},
       "output_type": "pyout",
       "prompt_number": 19,
       "text": [
        "<AsyncResult: _push>"
       ]
      }
     ],
     "prompt_number": 19
    },
    {
     "cell_type": "code",
     "collapsed": false,
     "input": [
      "%%px\n",
      "import numpy as np\n",
      "import scipy.optimize as o\n",
      "def gauss(x,a,b,c,d,e):\n",
      "    return a*np.exp(-np.power(x-b,2)/(2*np.power(c,2)))+d*x+e\n",
      "C = []\n",
      "for ii, Yi in enumerate(Y):\n",
      "    d=0\n",
      "    e=0\n",
      "    a=max(Yi)\n",
      "    b = np.average(X*Yi)\n",
      "    c = np.sqrt(sum((Yi-b)**2)/len(X))\n",
      "    try:\n",
      "        p = o.curve_fit(gauss,X,Yi,p0 = (a,b,c,d,e))\n",
      "    except RuntimeError:\n",
      "        z = Yi[1:]-Yi[:-1]\n",
      "        i = np.floor((np.argmin(z)-np.argmax(z))/2)+np.argmax(z)\n",
      "        b = X[i]\n",
      "        a = Yi[i]\n",
      "        c = np.sqrt(sum((Yi-b)**2)/len(X))\n",
      "        p, pp = o.curve_fit(gauss,X,Yi,p0 = (a,b,c,d,e))\n",
      "    print(p[0])\n",
      "    C.append(gauss(X,p[0],p[1],p[2],p[3],p[4]))"
     ],
     "language": "python",
     "metadata": {},
     "outputs": [
      {
       "output_type": "stream",
       "stream": "stdout",
       "text": [
        "[stdout:0] \n",
        "[  2.55241498e-01   1.12405995e+00   2.13006150e+00  -6.48600071e-02\n",
        "  -4.00669507e-09] 1\n",
        "[ 2.5407025   9.56894505  0.34445082 -0.08533383  9.        ] 1\n",
        "[  1.91183575e+01   3.82333938e+00  -2.88896815e-01  -9.79634892e-02\n",
        "   3.66501719e-11] 1\n",
        "[  1.43598227e+01   4.54932013e+00  -3.22139020e-01  -9.88191776e-02\n",
        "  -3.13733187e-09] 1\n",
        "[ 11.35345258   0.34529983  -0.02180891   0.05017355   6.        ] 1\n",
        "[ 17.09913948   2.23605836   0.02265726   0.07084786   5.        ] 1\n",
        "[ 3.45955416  1.01577187 -0.10889882 -0.09025496  2.        ] 1\n",
        "[ 10.06249495   6.72878236   0.03330893   0.06595683  10.        ] 1\n",
        "[stdout:1] \n",
        "[ 5.1446363   4.53194862 -0.00886555  0.09017418  3.        ] 1\n",
        "[ 7.72448307  6.69625665  0.10550967  0.07847533  6.        ] 1\n",
        "[ 16.28766095   6.17679647  -0.03501392   0.06407998   4.        ] 1\n",
        "[ 1.47355785  1.83044834  0.13220292  0.09547698  1.        ] 1\n",
        "[ 7.68685609  4.47085746  0.01059087  0.06955334  7.        ] 1\n",
        "[ 14.90529577   4.06337618  -0.06391298   0.08954225   2.        ] 1\n",
        "[ 13.22210594   9.49687637   0.3009619   -0.0959393    6.        ] 1\n",
        "[ 11.36238923   1.18208172  -0.17152698  -0.08132137   4.        ] 1\n",
        "[ 16.18820342   7.58259021  -0.19965116  -0.08046463   8.        ] 1\n",
        "[ 8.07661937  9.27529722  0.40506758 -0.0896875   9.        ] 1\n",
        "[stdout:2] \n",
        "[ 0.37262111  5.08352864  2.5832889  -0.09332039  5.        ] 1\n",
        "[ 1.29208324  9.05016601  1.24778271 -0.0825282   2.        ] 1\n",
        "[  1.74851161e+01   1.58532244e+00  -6.83484094e-03   9.36323714e-02\n",
        "  -7.73425993e-10] 1\n",
        "[  0.51960761   7.81893835   2.33366754  -0.09663206  10.        ] 1\n",
        "[ 14.92670999   8.18501462  -0.1923585   -0.05976448   2.        ] 1\n",
        "[ 9.81857369  8.79408646  0.42344478 -0.06690412  6.        ] 1\n",
        "[ 17.76240677   3.70479669  -0.57259421   0.08425617  10.        ] 1\n",
        "[ 9.65302248  3.84035664  0.26091957 -0.07951322  3.        ] 1\n",
        "[ 1.29678077  3.76060094 -0.56752564 -0.09923018  7.        ] 1\n",
        "[ 2.46396002  2.194992    0.57094767 -0.08759627  2.        ] 1\n",
        "[ 15.3122214    1.12105271   0.46696843  -0.06369488   1.        ] 1\n",
        "[stdout:3] \n",
        "[  1.16125498e+01   5.51371955e+00   5.97845482e-01  -5.03512192e-02\n",
        "  -1.36288306e-09] 1\n",
        "[  3.67960271   3.23148926   0.0601063    0.0968626   10.        ] 1\n",
        "[ 1.12177654  1.03661424  0.94653844 -0.09972523  5.        ] 1\n",
        "[  1.85178551e+01   6.64729415e+00  -7.66714945e-02  -7.74551122e-02\n",
        "   1.01204686e-09] 1\n",
        "[ 3.83330755  4.45198571 -0.04636559  0.08793117  6.        ] 1\n",
        "[ 1.98501507  5.89081568 -0.36491504  0.09246085  9.        ] 1\n",
        "[  3.94520650e+00   4.20863549e-01   2.60109291e-01  -6.33903754e-02\n",
        "   1.58714033e-09] 1\n"
       ]
      }
     ],
     "prompt_number": 55
    }
   ],
   "metadata": {}
  }
 ]
}